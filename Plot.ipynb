{
 "cells": [
  {
   "cell_type": "code",
   "execution_count": 1,
   "metadata": {
    "collapsed": false,
    "jupyter": {
     "outputs_hidden": false
    },
    "pycharm": {
     "is_executing": false,
     "name": "#%%\n"
    }
   },
   "outputs": [],
   "source": [
    "import pandas as pd\n",
    "data = pd.read_csv('insample.csv')\n",
    "import warnings\n",
    "warnings.filterwarnings(\"ignore\")\n",
    "from scipy import stats\n",
    "import numpy as np\n",
    "zscore = lambda x: (x - x.mean()) / x.std()"
   ]
  },
  {
   "cell_type": "code",
   "execution_count": 2,
   "metadata": {
    "collapsed": false,
    "jupyter": {
     "outputs_hidden": false
    },
    "pycharm": {
     "is_executing": false,
     "name": "#%%\n"
    }
   },
   "outputs": [],
   "source": [
    "data_dict = {}\n",
    "for year in range(1980,2009):\n",
    "    data_dict[year]=data.query(\"year==\"+str(year))"
   ]
  },
  {
   "cell_type": "code",
   "execution_count": 3,
   "metadata": {
    "collapsed": false,
    "jupyter": {
     "outputs_hidden": false
    },
    "pycharm": {
     "is_executing": false,
     "name": "#%%\n"
    }
   },
   "outputs": [],
   "source": [
    "all_factor_name = ['CAPEI',\n",
    " 'bm',\n",
    " 'evm',\n",
    " 'pe_op_basic',\n",
    " 'pe_op_dil',\n",
    " 'pe_exi',\n",
    " 'pe_inc',\n",
    " 'ps',\n",
    " 'pcf',\n",
    " 'dpr',\n",
    " 'npm',\n",
    " 'opmbd',\n",
    " 'opmad',\n",
    " 'gpm',\n",
    " 'ptpm',\n",
    " 'cfm',\n",
    " 'roa',\n",
    " 'roe',\n",
    " 'roce',\n",
    " 'efftax',\n",
    " 'aftret_eq',\n",
    " 'aftret_invcapx',\n",
    " 'aftret_equity',\n",
    " 'pretret_noa',\n",
    " 'pretret_earnat',\n",
    " 'GProf',\n",
    " 'equity_invcap',\n",
    " 'debt_invcap',\n",
    " 'totdebt_invcap',\n",
    " 'capital_ratio',\n",
    " 'int_debt',\n",
    " 'int_totdebt',\n",
    " 'cash_lt',\n",
    " 'invt_act',\n",
    " 'rect_act',\n",
    " 'debt_at',\n",
    " 'debt_ebitda',\n",
    " 'short_debt',\n",
    " 'curr_debt',\n",
    " 'lt_debt',\n",
    " 'profit_lct',\n",
    " 'ocf_lct',\n",
    " 'cash_debt',\n",
    " 'fcf_ocf',\n",
    " 'lt_ppent',\n",
    " 'dltt_be',\n",
    " 'debt_assets',\n",
    " 'debt_capital',\n",
    " 'de_ratio',\n",
    " 'intcov',\n",
    " 'intcov_ratio',\n",
    " 'cash_ratio',\n",
    " 'quick_ratio',\n",
    " 'curr_ratio',\n",
    " 'cash_conversion',\n",
    " 'inv_turn',\n",
    " 'at_turn',\n",
    " 'rect_turn',\n",
    " 'pay_turn',\n",
    " 'sale_invcap',\n",
    " 'sale_equity',\n",
    " 'sale_nwc',\n",
    " 'rd_sale',\n",
    " 'adv_sale',\n",
    " 'staff_sale',\n",
    " 'accrual',\n",
    " 'ptb',\n",
    " 'PEG_trailing',\n",
    " 'DIVYIELD',\n",
    " 'PEG_1yrforward',\n",
    " 'PEG_ltgforward',\n",
    " 'alpha',\n",
    " 'b_mkt',\n",
    " 'b_smb',\n",
    " 'b_hml',\n",
    " 'b_umd',\n",
    " 'ivol',\n",
    " 'tvol',\n",
    " 'R2',\n",
    " 'exret',\n",
    " 'Tbi',\n",
    " 'OPA',\n",
    " 'Sp',\n",
    " 'IG',\n",
    " 'IK',\n",
    " 'Rds',\n",
    " 'Adm',\n",
    " 'dp']"
   ]
  },
  {
   "cell_type": "code",
   "execution_count": 4,
   "metadata": {
    "collapsed": false,
    "jupyter": {
     "outputs_hidden": false
    },
    "pycharm": {
     "is_executing": false,
     "name": "#%%\n"
    }
   },
   "outputs": [
    {
     "name": "stdout",
     "output_type": "stream",
     "text": [
      "CAPEI\n",
      "bm\n",
      "evm\n",
      "pe_op_basic\n",
      "pe_op_dil\n",
      "pe_exi\n",
      "pe_inc\n",
      "ps\n",
      "pcf\n",
      "dpr\n",
      "npm\n",
      "opmbd\n",
      "opmad\n",
      "gpm\n",
      "ptpm\n",
      "cfm\n",
      "roa\n",
      "roe\n",
      "roce\n",
      "efftax\n",
      "aftret_eq\n",
      "aftret_invcapx\n",
      "aftret_equity\n",
      "pretret_noa\n",
      "pretret_earnat\n",
      "GProf\n",
      "equity_invcap\n",
      "debt_invcap\n",
      "totdebt_invcap\n",
      "capital_ratio\n",
      "int_debt\n",
      "int_totdebt\n",
      "cash_lt\n",
      "invt_act\n",
      "rect_act\n",
      "debt_at\n",
      "debt_ebitda\n",
      "short_debt\n",
      "curr_debt\n",
      "lt_debt\n",
      "profit_lct\n",
      "ocf_lct\n",
      "cash_debt\n",
      "fcf_ocf\n",
      "lt_ppent\n",
      "dltt_be\n",
      "debt_assets\n",
      "debt_capital\n",
      "de_ratio\n",
      "intcov\n",
      "intcov_ratio\n",
      "cash_ratio\n",
      "quick_ratio\n",
      "curr_ratio\n",
      "cash_conversion\n",
      "inv_turn\n",
      "at_turn\n",
      "rect_turn\n",
      "pay_turn\n",
      "sale_invcap\n",
      "sale_equity\n",
      "sale_nwc\n",
      "rd_sale\n",
      "adv_sale\n",
      "staff_sale\n",
      "accrual\n",
      "ptb\n",
      "PEG_trailing\n",
      "DIVYIELD\n",
      "PEG_1yrforward\n",
      "PEG_ltgforward\n",
      "alpha\n",
      "b_mkt\n",
      "b_smb\n",
      "b_hml\n",
      "b_umd\n",
      "ivol\n",
      "tvol\n",
      "R2\n",
      "exret\n",
      "Tbi\n",
      "OPA\n",
      "Sp\n",
      "IG\n",
      "IK\n",
      "Rds\n",
      "Adm\n",
      "dp\n"
     ]
    },
    {
     "data": {
      "image/png": "[encoded data removed]",
      "text/plain": [
       "<Figure size 864x576 with 1 Axes>"
      ]
     },
     "metadata": {
      "needs_background": "light"
     },
     "output_type": "display_data"
    }
   ],
   "source": [
    "# Long/Short top/bottom 10%\n",
    "# You can choose to use the same method for finding alphas\n",
    "\n",
    "start = 1980\n",
    "end = 2008\n",
    "result_list = []\n",
    "for factor_name in all_factor_name:\n",
    "    print(factor_name)\n",
    "    returndata = np.zeros(len(range(start,end)))\n",
    "    valid_n = np.zeros(len(range(start,end)))\n",
    "    for year in range(start,end):\n",
    "        \n",
    "        temp = data_dict[year][['permno','ret1yrafter','INDUSTRY',factor_name]]\n",
    "        temp = temp[temp[factor_name].notna()]\n",
    "        bound1 = temp[factor_name].mean() - 3* temp[factor_name].std()\n",
    "        bound2 = temp[factor_name].mean() + 3* temp[factor_name].std()\n",
    "        temp = temp[temp[factor_name].between(bound1, bound2)]\n",
    "        temp['zscore']=temp.groupby(['INDUSTRY'])[factor_name].transform(zscore)\n",
    "        temp = temp[temp['zscore'].notna()]\n",
    "        temp.sort_values(by='zscore',inplace = True)\n",
    "        \n",
    "        total = temp.shape[0]\n",
    "        count = int(total*0.1)\n",
    "        short= temp.head(count)\n",
    "        long = temp.tail(count)\n",
    "        long_return = long['ret1yrafter'].sum()/count\n",
    "        short_return = short['ret1yrafter'].sum()/count\n",
    "        if not (np.isnan(long_return) and np.isnan(short_return)):\n",
    "            returndata[year-start] = long_return-short_return\n",
    "        else:\n",
    "            returndata[year-start] = 0\n",
    "        valid_n[year-start] = total\n",
    "    t_statistics, p_value = stats.ttest_1samp(returndata,0)\n",
    "    if np.isnan(t_statistics):\n",
    "        t_statistics = -999\n",
    "        p_value = -999\n",
    "    str_t_statistics = \"%.3f\"%t_statistics\n",
    "    str_p_value = \"%.3f\"%p_value\n",
    "    str_valid_n = '%.1f'%np.mean(valid_n)\n",
    "    a = pd.DataFrame(returndata,index = range(start,end), columns = ['return'])\n",
    "    a['Profit'] = a.cumsum()*100\n",
    "    chart = a['Profit'].plot(grid=True,figsize=[12,8],linewidth=1,color='darkorange', title= factor_name+' ----- '+'t-stat: '+str_t_statistics+'; p-value: '+str_p_value+'; average_valid_count: '+str_valid_n)\n",
    "    chart.get_figure().savefig('./Charts/'+factor_name+'.png')\n",
    "    chart.clear()\n",
    "    result_list.append((factor_name,str_t_statistics,str_p_value,str_valid_n))\n",
    "\n",
    "pd.DataFrame(result_list, columns = ['factor','t-stat', 'p-value','average obs']).to_csv('./Charts/result.csv')"
   ]
  },
  {
   "cell_type": "code",
   "execution_count": null,
   "metadata": {
    "collapsed": false,
    "jupyter": {
     "outputs_hidden": false
    },
    "pycharm": {
     "is_executing": false,
     "name": "#%%\n"
    }
   },
   "outputs": [],
   "source": []
  },
  {
   "cell_type": "code",
   "execution_count": 4,
   "metadata": {
    "collapsed": false,
    "jupyter": {
     "outputs_hidden": false
    },
    "pycharm": {
     "is_executing": false,
     "name": "#%%\n"
    }
   },
   "outputs": [],
   "source": [
    "\n"
   ]
  }
 ],
 "metadata": {
  "kernelspec": {
   "display_name": "Python 3",
   "language": "python",
   "name": "python3"
  },
  "language_info": {
   "codemirror_mode": {
    "name": "ipython",
    "version": 3
   },
   "file_extension": ".py",
   "mimetype": "text/x-python",
   "name": "python",
   "nbconvert_exporter": "python",
   "pygments_lexer": "ipython3",
   "version": "3.7.1"
  },
  "pycharm": {
   "stem_cell": {
    "cell_type": "raw",
    "metadata": {
     "collapsed": false
    },
    "source": []
   }
  }
 },
 "nbformat": 4,
 "nbformat_minor": 4
}
